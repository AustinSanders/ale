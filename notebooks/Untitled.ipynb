{
 "cells": [
  {
   "cell_type": "code",
   "execution_count": 1,
   "metadata": {},
   "outputs": [],
   "source": [
    "import ale\n",
    "from ale import load"
   ]
  },
  {
   "cell_type": "code",
   "execution_count": 2,
   "metadata": {},
   "outputs": [],
   "source": [
    "label = \"\"\"\n",
    "        PDS_VERSION_ID                     = PDS3\n",
    "\n",
    "        /*FILE CHARACTERISTICS*/\n",
    "        RECORD_TYPE                        = FIXED_LENGTH\n",
    "        RECORD_BYTES                       = 5064\n",
    "        FILE_RECORDS                       = 13313\n",
    "        LABEL_RECORDS                      = 1\n",
    "        ^IMAGE                             = 2\n",
    "\n",
    "        /*DATA IDENTIFICATION*/\n",
    "        DATA_SET_ID                        = \"LRO-L-LROC-2-EDR-V1.0\"\n",
    "        ORIGINAL_PRODUCT_ID                = nacl0002fc60\n",
    "        PRODUCT_ID                         = M128963531LE\n",
    "        MISSION_NAME                       = \"LUNAR RECONNAISSANCE ORBITER\"\n",
    "        MISSION_PHASE_NAME                 = \"NOMINAL MISSION\"\n",
    "        INSTRUMENT_HOST_NAME               = \"LUNAR RECONNAISSANCE ORBITER\"\n",
    "        INSTRUMENT_HOST_ID                 = LRO\n",
    "        INSTRUMENT_NAME                    = \"LUNAR RECONNAISSANCE ORBITER CAMERA\"\n",
    "        INSTRUMENT_ID                      = LROC\n",
    "        LRO:PREROLL_TIME                   = 2010-05-20T02:57:44.373\n",
    "        START_TIME                         = 2010-05-20T02:57:44.720\n",
    "        STOP_TIME                          = 2010-05-20T02:57:49.235\n",
    "        LRO:SPACECRAFT_CLOCK_PREROLL_COUNT = \"1/296017064:22937\"\n",
    "        SPACECRAFT_CLOCK_START_COUNT       = \"1/296017064:45694\"\n",
    "        SPACECRAFT_CLOCK_STOP_COUNT        = \"1/296017069:13866\"\n",
    "        ORBIT_NUMBER                       = 4138\n",
    "        PRODUCER_ID                        = LRO_LROC_TEAM\n",
    "        PRODUCT_CREATION_TIME              = 2013-09-16T19:57:12\n",
    "        PRODUCER_INSTITUTION_NAME          = \"ARIZONA STATE UNIVERSITY\"\n",
    "        PRODUCT_TYPE                       = EDR\n",
    "        PRODUCT_VERSION_ID                 = \"v1.8\"\n",
    "        UPLOAD_ID                          = \"SC_2010140_0000_A_V01.txt\"\n",
    "\n",
    "        /*DATA DESCRIPTION*/\n",
    "        TARGET_NAME                        = \"MOON\"\n",
    "        RATIONALE_DESC                     = \"TARGET OF OPPORTUNITY\"\n",
    "        FRAME_ID                           = LEFT\n",
    "        DATA_QUALITY_ID                    = \"0\"\n",
    "        DATA_QUALITY_DESC                  = \"The DATA_QUALITY_ID is set to an 8-bit\n",
    "           value that encodes the following data quality information for the\n",
    "           observation. For each bit  a value of 0 means FALSE and a value of 1 means\n",
    "           TRUE. More information about the data quality ID can be found in the LROC\n",
    "           EDR/CDR SIS, section 3.3 'Label and Header Descriptions'.\n",
    "               Bit 1: Temperature of focal plane array is out of bounds.\n",
    "               Bit 2: Threshold for saturated pixels is reached.\n",
    "               Bit 3: Threshold for under-saturated pixels is reached.\n",
    "               Bit 4: Observation is missing telemetry packets.\n",
    "               Bit 5: SPICE information is bad or missing.\n",
    "               Bit 6: Observation or housekeeping information is bad or missing.\n",
    "               Bit 7: Spare.\n",
    "               Bit 8: Spare.\"\n",
    "\n",
    "        /*ENVIRONMENT*/\n",
    "        LRO:TEMPERATURE_SCS                = 4.51 <degC>\n",
    "        LRO:TEMPERATURE_FPA                = 17.88 <degC>\n",
    "        LRO:TEMPERATURE_FPGA               = -12.33 <degC>\n",
    "        LRO:TEMPERATURE_TELESCOPE          = 5.91 <degC>\n",
    "        LRO:TEMPERATURE_SCS_RAW            = 2740\n",
    "        LRO:TEMPERATURE_FPA_RAW            = 2107\n",
    "        LRO:TEMPERATURE_FPGA_RAW           = 3418\n",
    "        LRO:TEMPERATURE_TELESCOPE_RAW      = 2675\n",
    "\n",
    "        /*IMAGING PARAMETERS*/\n",
    "        CROSSTRACK_SUMMING                 = 1\n",
    "        BANDWIDTH                          = 300 <nm>\n",
    "        CENTER_FILTER_WAVELENGTH           = 600 <nm>\n",
    "        LINE_EXPOSURE_DURATION             = 0.337600 <ms>\n",
    "        LRO:LINE_EXPOSURE_CODE             = 0\n",
    "        LRO:DAC_RESET_LEVEL                = 198\n",
    "        LRO:CHANNEL_A_OFFSET               = 60\n",
    "        LRO:CHANNEL_B_OFFSET               = 123\n",
    "        LRO:COMPAND_CODE                   = 3\n",
    "        LRO:LINE_CODE                      = 13\n",
    "        LRO:BTERM                          = (0,16,69,103,128)\n",
    "        LRO:MTERM                          = (0.5,0.25,0.125,0.0625,0.03125)\n",
    "        LRO:XTERM                          = (0,64,424,536,800)\n",
    "        LRO:COMPRESSION_FLAG               = 1\n",
    "        LRO:MODE                           = 7\n",
    "\n",
    "        /*DATA OBJECT*/\n",
    "        OBJECT                             = IMAGE\n",
    "            LINES                          = 13312\n",
    "            LINE_SAMPLES                   = 5064\n",
    "            SAMPLE_BITS                    = 8\n",
    "            SAMPLE_TYPE                    = LSB_INTEGER\n",
    "            UNIT                           = \"RAW_INSTRUMENT_COUNT\"\n",
    "            MD5_CHECKSUM                   = \"0fe91f4b2e93083ee0093e7c8d05f3bc\"\n",
    "        END_OBJECT                         = IMAGE\n",
    "        END\n",
    "        \"\"\""
   ]
  },
  {
   "cell_type": "code",
   "execution_count": 3,
   "metadata": {},
   "outputs": [
    {
     "name": "stdout",
     "output_type": "stream",
     "text": [
      "TRYING: <class 'ale.drivers.mro_driver.MRO_CTX'>\n",
      "TRYING: <class 'ale.drivers.mdis_driver.Messenger'>\n",
      "TRYING: <class 'ale.drivers.cassini_driver.CassiniISS'>\n",
      "TRYING: <class 'ale.drivers.lro_driver.LRO_LROC'>\n",
      "IN FURNISH\n"
     ]
    },
    {
     "name": "stderr",
     "output_type": "stream",
     "text": [
      "Traceback (most recent call last):\n",
      "  File \"/Users/krodriguez-pr/repos/ale/ale/drivers/__init__.py\", line 25, in load\n",
      "    with res as r:\n",
      "  File \"/Users/krodriguez-pr/repos/ale/ale/drivers/base.py\", line 30, in __enter__\n",
      "    if self.metakernel:\n",
      "  File \"/Users/krodriguez-pr/repos/ale/ale/drivers/lro_driver.py\", line 17, in metakernel\n",
      "    self._metakernel = metakernels['data'][0]['path']\n",
      "IndexError: list index out of range\n"
     ]
    },
    {
     "ename": "Exception",
     "evalue": "No Such Driver for Label",
     "output_type": "error",
     "traceback": [
      "\u001b[0;31m---------------------------------------------------------------------------\u001b[0m",
      "\u001b[0;31mException\u001b[0m                                 Traceback (most recent call last)",
      "\u001b[0;32m<ipython-input-3-c10fc6e56b98>\u001b[0m in \u001b[0;36m<module>\u001b[0;34m\u001b[0m\n\u001b[0;32m----> 1\u001b[0;31m \u001b[0mload\u001b[0m\u001b[0;34m(\u001b[0m\u001b[0mlabel\u001b[0m\u001b[0;34m)\u001b[0m\u001b[0;34m\u001b[0m\u001b[0;34m\u001b[0m\u001b[0m\n\u001b[0m",
      "\u001b[0;32m~/repos/ale/ale/drivers/__init__.py\u001b[0m in \u001b[0;36mload\u001b[0;34m(label)\u001b[0m\n\u001b[1;32m     29\u001b[0m             \u001b[0;32mimport\u001b[0m \u001b[0mtraceback\u001b[0m\u001b[0;34m\u001b[0m\u001b[0;34m\u001b[0m\u001b[0m\n\u001b[1;32m     30\u001b[0m             \u001b[0mtraceback\u001b[0m\u001b[0;34m.\u001b[0m\u001b[0mprint_exc\u001b[0m\u001b[0;34m(\u001b[0m\u001b[0;34m)\u001b[0m\u001b[0;34m\u001b[0m\u001b[0;34m\u001b[0m\u001b[0m\n\u001b[0;32m---> 31\u001b[0;31m     \u001b[0;32mraise\u001b[0m \u001b[0mException\u001b[0m\u001b[0;34m(\u001b[0m\u001b[0;34m'No Such Driver for Label'\u001b[0m\u001b[0;34m)\u001b[0m\u001b[0;34m\u001b[0m\u001b[0;34m\u001b[0m\u001b[0m\n\u001b[0m",
      "\u001b[0;31mException\u001b[0m: No Such Driver for Label"
     ]
    }
   ],
   "source": [
    "load(label)"
   ]
  },
  {
   "cell_type": "code",
   "execution_count": null,
   "metadata": {},
   "outputs": [],
   "source": []
  },
  {
   "cell_type": "code",
   "execution_count": null,
   "metadata": {},
   "outputs": [],
   "source": []
  }
 ],
 "metadata": {
  "kernelspec": {
   "display_name": "Python 3",
   "language": "python",
   "name": "python3"
  },
  "language_info": {
   "codemirror_mode": {
    "name": "ipython",
    "version": 3
   },
   "file_extension": ".py",
   "mimetype": "text/x-python",
   "name": "python",
   "nbconvert_exporter": "python",
   "pygments_lexer": "ipython3",
   "version": "3.7.1"
  }
 },
 "nbformat": 4,
 "nbformat_minor": 2
}
