{
 "cells": [
  {
   "cell_type": "code",
   "execution_count": 2,
   "metadata": {},
   "outputs": [],
   "source": [
    "#pragma cling add_include_path(\"/Users/krodriguez-pr/repos/ale/include/\")\n",
    "#pragma cling add_include_path(\"/Users/krodriguez-pr/repos/ale/include/json\")\n",
    "#pragma cling add_include_path(\"/Users/krodriguez-pr/anaconda3/envs/ale/include/python3.7m\")\n",
    "\n",
    "#pragma cling load(\"/Users/krodriguez-pr/repos/ale/build/libale.dylib\")"
   ]
  },
  {
   "cell_type": "code",
   "execution_count": 3,
   "metadata": {},
   "outputs": [],
   "source": [
    "#include \"Python.h\"\n",
    "#include \"ale.h\"\n",
    "\n",
    "std::string test_lro_label =\n",
    "        \"PDS_VERSION_ID                     = PDS3\"\n",
    "        \"\"\n",
    "        \"/*FILE CHARACTERISTICS*/\"\n",
    "        \"RECORD_TYPE                        = FIXED_LENGTH\"\n",
    "        \"RECORD_BYTES                       = 5064\"\n",
    "        \"FILE_RECORDS                       = 13313\"\n",
    "        \"LABEL_RECORDS                      = 1\"\n",
    "        \"^IMAGE                             = 2\"\n",
    "        \"\"\n",
    "        \"/*DATA IDENTIFICATION*/\"\n",
    "        \"DATA_SET_ID                        = \\\"LRO-L-LROC-2-EDR-V1.0\\\"\"\n",
    "        \"ORIGINAL_PRODUCT_ID                = nacl0002fc60\"\n",
    "        \"PRODUCT_ID                         = M128963531LE\"\n",
    "        \"MISSION_NAME                       = \\\"LUNAR RECONNAISSANCE ORBITER\\\"\"\n",
    "        \"MISSION_PHASE_NAME                 = \\\"NOMINAL MISSION\\\"\"\n",
    "        \"INSTRUMENT_HOST_NAME               = \\\"LUNAR RECONNAISSANCE ORBITER\\\"\"\n",
    "        \"INSTRUMENT_HOST_ID                 = LRO\"\n",
    "        \"INSTRUMENT_NAME                    = \\\"LUNAR RECONNAISSANCE ORBITER CAMERA\\\"\"\n",
    "        \"INSTRUMENT_ID                      = LROC\"\n",
    "        \"LRO:PREROLL_TIME                   = 2010-05-20T02:57:44.373\"\n",
    "        \"START_TIME                         = 2010-05-20T02:57:44.720\"\n",
    "        \"STOP_TIME                          = 2010-05-20T02:57:49.235\"\n",
    "        \"LRO:SPACECRAFT_CLOCK_PREROLL_COUNT = \\\"1/296017064:22937\\\"\"\n",
    "        \"SPACECRAFT_CLOCK_START_COUNT       = \\\"1/296017064:45694\\\"\"\n",
    "        \"SPACECRAFT_CLOCK_STOP_COUNT        = \\\"1/296017069:13866\\\"\"\n",
    "        \"ORBIT_NUMBER                       = 4138\"\n",
    "        \"PRODUCER_ID                        = LRO_LROC_TEAM\"\n",
    "        \"PRODUCT_CREATION_TIME              = 2013-09-16T19:57:12\"\n",
    "        \"PRODUCER_INSTITUTION_NAME          = \\\"ARIZONA STATE UNIVERSITY\\\"\"\n",
    "        \"PRODUCT_TYPE                       = EDR\"\n",
    "        \"PRODUCT_VERSION_ID                 = \\\"v1.8\\\"\"\n",
    "        \"UPLOAD_ID                          = \\\"SC_2010140_0000_A_V01.txt\\\"\"\n",
    "        \"\"\n",
    "        \"/*DATA DESCRIPTION*/\"\n",
    "        \"TARGET_NAME                        = \\\"MOON\\\"\"\n",
    "        \"RATIONALE_DESC                     = \\\"TARGET OF OPPORTUNITY\\\"\"\n",
    "        \"FRAME_ID                           = LEFT\"\n",
    "        \"DATA_QUALITY_ID                    = \\\"0\\\"\"\n",
    "        \"DATA_QUALITY_DESC                  = \\\"The DATA_QUALITY_ID is set to an 8-bit\"\n",
    "        \"   value that encodes the following data quality information for the\"\n",
    "        \"   observation. For each bit  a value of 0 means FALSE and a value of 1 means\"\n",
    "        \"   TRUE. More information about the data quality ID can be found in the LROC\"\n",
    "        \"   EDR/CDR SIS, section 3.3 'Label and Header Descriptions'.\"\n",
    "        \"       Bit 1: Temperature of focal plane array is out of bounds.\"\n",
    "        \"       Bit 2: Threshold for saturated pixels is reached.\"\n",
    "        \"       Bit 3: Threshold for under-saturated pixels is reached.\"\n",
    "        \"       Bit 4: Observation is missing telemetry packets.\"\n",
    "        \"       Bit 5: SPICE information is bad or missing.\"\n",
    "        \"       Bit 6: Observation or housekeeping information is bad or missing.\"\n",
    "        \"       Bit 7: Spare.\"\n",
    "        \"       Bit 8: Spare.\\\"\"\n",
    "        \"\"\n",
    "        \"/*ENVIRONMENT*/\"\n",
    "        \"LRO:TEMPERATURE_SCS                = 4.51 <degC>\"\n",
    "        \"LRO:TEMPERATURE_FPA                = 17.88 <degC>\"\n",
    "        \"LRO:TEMPERATURE_FPGA               = -12.33 <degC>\"\n",
    "        \"LRO:TEMPERATURE_TELESCOPE          = 5.91 <degC>\"\n",
    "        \"LRO:TEMPERATURE_SCS_RAW            = 2740\"\n",
    "        \"LRO:TEMPERATURE_FPA_RAW            = 2107\"\n",
    "        \"LRO:TEMPERATURE_FPGA_RAW           = 3418\"\n",
    "        \"LRO:TEMPERATURE_TELESCOPE_RAW      = 2675\"\n",
    "        \"\"\n",
    "        \"/*IMAGING PARAMETERS*/\"\n",
    "        \"CROSSTRACK_SUMMING                 = 1\"\n",
    "        \"BANDWIDTH                          = 300 <nm>\"\n",
    "        \"CENTER_FILTER_WAVELENGTH           = 600 <nm>\"\n",
    "        \"LINE_EXPOSURE_DURATION             = 0.337600 <ms>\"\n",
    "        \"LRO:LINE_EXPOSURE_CODE             = 0\"\n",
    "        \"LRO:DAC_RESET_LEVEL                = 198\"\n",
    "        \"LRO:CHANNEL_A_OFFSET               = 60\"\n",
    "        \"LRO:CHANNEL_B_OFFSET               = 123\"\n",
    "        \"LRO:COMPAND_CODE                   = 3\"\n",
    "        \"LRO:LINE_CODE                      = 13\"\n",
    "        \"LRO:BTERM                          = (0,16,69,103,128)\"\n",
    "        \"LRO:MTERM                          = (0.5,0.25,0.125,0.0625,0.03125)\"\n",
    "        \"LRO:XTERM                          = (0,64,424,536,800)\"\n",
    "        \"LRO:COMPRESSION_FLAG               = 1\"\n",
    "        \"LRO:MODE                           = 7\"\n",
    "        \"\"\n",
    "        \"/*DATA OBJECT*/\"\n",
    "        \"OBJECT                             = IMAGE\"\n",
    "        \"    LINES                          = 13312\"\n",
    "        \"    LINE_SAMPLES                   = 5064\"\n",
    "        \"    SAMPLE_BITS                    = 8\"\n",
    "        \"    SAMPLE_TYPE                    = LSB_INTEGER\"\n",
    "        \"    UNIT                           = \\\"RAW_INSTRUMENT_COUNT\\\"\"\n",
    "        \"    MD5_CHECKSUM                   = \\\"0fe91f4b2e93083ee0093e7c8d05f3bc\\\"\"\n",
    "        \"END_OBJECT                         = IMAGE\"\n",
    "        \"END\";"
   ]
  },
  {
   "cell_type": "code",
   "execution_count": 4,
   "metadata": {},
   "outputs": [
    {
     "ename": "Standard Exception",
     "evalue": "Calling the load method failed.",
     "output_type": "error",
     "traceback": [
      "Standard Exception: Calling the load method failed."
     ]
    }
   ],
   "source": [
    "ale::load(test_lro_label);"
   ]
  },
  {
   "cell_type": "code",
   "execution_count": null,
   "metadata": {},
   "outputs": [],
   "source": []
  }
 ],
 "metadata": {
  "kernelspec": {
   "display_name": "C++11",
   "language": "C++11",
   "name": "xeus-cling-cpp11"
  },
  "language_info": {
   "codemirror_mode": "text/x-c++src",
   "file_extension": ".cpp",
   "mimetype": "text/x-c++src",
   "name": "c++",
   "version": "-std=c++11"
  }
 },
 "nbformat": 4,
 "nbformat_minor": 2
}
